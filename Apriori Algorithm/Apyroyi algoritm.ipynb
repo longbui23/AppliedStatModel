{
 "cells": [
  {
   "cell_type": "markdown",
   "id": "e1aeb942",
   "metadata": {},
   "source": [
    "# Analyzing Store Data Through Market Basket Analysis"
   ]
  },
  {
   "cell_type": "markdown",
   "id": "4de333da",
   "metadata": {},
   "source": [
    "## 1) Libraries and packages"
   ]
  },
  {
   "cell_type": "markdown",
   "id": "bc4b4f9e",
   "metadata": {},
   "source": [
    "## a) Import libraries"
   ]
  },
  {
   "cell_type": "code",
   "execution_count": 2,
   "id": "39d859db",
   "metadata": {},
   "outputs": [],
   "source": [
    "import numpy as np\n",
    "import pandas as pd\n",
    "import matplotlib.pyplot as plt\n",
    "from apyori import apriori"
   ]
  },
  {
   "cell_type": "markdown",
   "id": "cffcf2c1",
   "metadata": {},
   "source": [
    "## b) Read data and Display"
   ]
  },
  {
   "cell_type": "markdown",
   "id": "a1b751b0",
   "metadata": {},
   "source": [
    "### Data Understanding:\n",
    "• <u>What does each row in the dataset represent?</u>\n",
    "\n",
    "Each row in the dataset represents an transaction\n",
    "\n",
    "• <u>How are the items in each transaction represented in the dataset?</u>\n",
    "\n",
    "Each items are nested into a list in each transaction\n"
   ]
  },
  {
   "cell_type": "code",
   "execution_count": 171,
   "id": "5ecb4319",
   "metadata": {},
   "outputs": [
    {
     "data": {
      "text/html": [
       "<div>\n",
       "<style scoped>\n",
       "    .dataframe tbody tr th:only-of-type {\n",
       "        vertical-align: middle;\n",
       "    }\n",
       "\n",
       "    .dataframe tbody tr th {\n",
       "        vertical-align: top;\n",
       "    }\n",
       "\n",
       "    .dataframe thead th {\n",
       "        text-align: right;\n",
       "    }\n",
       "</style>\n",
       "<table border=\"1\" class=\"dataframe\">\n",
       "  <thead>\n",
       "    <tr style=\"text-align: right;\">\n",
       "      <th></th>\n",
       "      <th>TransactionID</th>\n",
       "      <th>Items</th>\n",
       "    </tr>\n",
       "  </thead>\n",
       "  <tbody>\n",
       "    <tr>\n",
       "      <th>0</th>\n",
       "      <td>1</td>\n",
       "      <td>Bread, Milk, Eggs</td>\n",
       "    </tr>\n",
       "    <tr>\n",
       "      <th>1</th>\n",
       "      <td>2</td>\n",
       "      <td>Bread, Juice, Cheese</td>\n",
       "    </tr>\n",
       "    <tr>\n",
       "      <th>2</th>\n",
       "      <td>3</td>\n",
       "      <td>Milk, Eggs, Juice</td>\n",
       "    </tr>\n",
       "    <tr>\n",
       "      <th>3</th>\n",
       "      <td>4</td>\n",
       "      <td>Bread, Milk</td>\n",
       "    </tr>\n",
       "    <tr>\n",
       "      <th>4</th>\n",
       "      <td>5</td>\n",
       "      <td>Eggs, Juice</td>\n",
       "    </tr>\n",
       "    <tr>\n",
       "      <th>5</th>\n",
       "      <td>6</td>\n",
       "      <td>Bread, Cheese</td>\n",
       "    </tr>\n",
       "    <tr>\n",
       "      <th>6</th>\n",
       "      <td>7</td>\n",
       "      <td>Milk, Cheese</td>\n",
       "    </tr>\n",
       "    <tr>\n",
       "      <th>7</th>\n",
       "      <td>8</td>\n",
       "      <td>Bread, Milk, Eggs, Juice</td>\n",
       "    </tr>\n",
       "    <tr>\n",
       "      <th>8</th>\n",
       "      <td>9</td>\n",
       "      <td>Juice, Cheese</td>\n",
       "    </tr>\n",
       "    <tr>\n",
       "      <th>9</th>\n",
       "      <td>10</td>\n",
       "      <td>Bread, Milk, Cheese</td>\n",
       "    </tr>\n",
       "  </tbody>\n",
       "</table>\n",
       "</div>"
      ],
      "text/plain": [
       "   TransactionID                     Items\n",
       "0              1         Bread, Milk, Eggs\n",
       "1              2      Bread, Juice, Cheese\n",
       "2              3         Milk, Eggs, Juice\n",
       "3              4               Bread, Milk\n",
       "4              5               Eggs, Juice\n",
       "5              6             Bread, Cheese\n",
       "6              7              Milk, Cheese\n",
       "7              8  Bread, Milk, Eggs, Juice\n",
       "8              9             Juice, Cheese\n",
       "9             10       Bread, Milk, Cheese"
      ]
     },
     "execution_count": 171,
     "metadata": {},
     "output_type": "execute_result"
    }
   ],
   "source": [
    "df = pd.read_csv(\"data.csv\")\n",
    "df"
   ]
  },
  {
   "cell_type": "code",
   "execution_count": 172,
   "id": "901a4d4e",
   "metadata": {},
   "outputs": [
    {
     "data": {
      "text/plain": [
       "(10, 2)"
      ]
     },
     "execution_count": 172,
     "metadata": {},
     "output_type": "execute_result"
    }
   ],
   "source": [
    "df.shape"
   ]
  },
  {
   "cell_type": "markdown",
   "id": "27f074bc",
   "metadata": {},
   "source": [
    "# 2) Association Rules\n",
    "\n",
    "Extract association rules from the given dataset, taking into consideration the Minimum\n",
    "Support Threshold (MST) of 20% and Minimum Confidence Threshold (MCT) of 70%."
   ]
  },
  {
   "cell_type": "markdown",
   "id": "0d623d02",
   "metadata": {},
   "source": [
    "### Algorithm Application:\n",
    "• <u>Why is the Apriori algorithm used in association rule mining?</u>\n",
    "\n",
    "The Apriori algorithm is employed in association rule mining due to its efficiency in discovering frequent itemsets through a systematic, level-wise search. It facilitates the identification of relationships and patterns in large datasets by generating candidate itemsets and deriving association rules.\n",
    "\n",
    "• <u>What is the significance of the min_support parameter in the Apriori algorithm,\n",
    "and how does it impact the results?</u>\n",
    "\n",
    "The min_support parameter in Apriori is significant, representing the minimum support threshold for a frequent itemset to be considered interesting. Higher values yield fewer but more significant rules, emphasizing strong associations across a substantial portion of the dataset. Lower values result in more itemsets and potentially weaker rules, offering a balance between generality and specificity in the discovered patterns. Choosing an appropriate min_support value is crucial for tailoring the mining process to specific analysis goals.\n"
   ]
  },
  {
   "cell_type": "markdown",
   "id": "cac64ac6",
   "metadata": {},
   "source": [
    "### i) Data Preprocessing"
   ]
  },
  {
   "cell_type": "markdown",
   "id": "3d0b8b9b",
   "metadata": {},
   "source": [
    "### Data Preprocessing:\n",
    "• <u>Why is it necessary to convert the 'Items' column into a list of items during data\n",
    "preprocessing?</u>\n",
    "\n",
    "Converting the 'Items' column into a list of items during data preprocessing is essential for various data analysis and mining tasks. Many algorithms, such as those used in association rule mining, require input in the form of itemsets or sequences. Converting the 'Items' column to a list ensures that the data is structured appropriately for these algorithms to identify patterns and relationships among items effectively.\n",
    "Handling Missing Values or Inconsistent Data:\n",
    "\n",
    "• <u>How would you handle missing values or inconsistent data in a real-world\n",
    "dataset?</u>\n",
    "\n",
    "<u>Missing Values:</u> For missing values, several strategies can be employed:\n",
    "\n",
    "**Imputation:** Replace missing values with a calculated estimate, such as the mean, median, or mode of the column.\n",
    "\n",
    "**Deletion:** Remove rows with missing values, but this should be done cautiously to avoid losing valuable information.\n",
    "\n",
    "**Advanced Imputation:** Use more sophisticated techniques like machine learning-based imputation methods for better accuracy.\n",
    "\n",
    "<u>Inconsistent Data:</u>\n",
    "\n",
    "**Standardization:** Standardize or normalize data to ensure consistency in scale and units.\n",
    "\n",
    "**Data Cleaning:** Identify and correct inconsistent entries manually or through automated cleaning procedures.\n",
    "\n",
    "**Outlier Handling:** Detect and handle outliers that might contribute to inconsistencies in the dataset."
   ]
  },
  {
   "cell_type": "code",
   "execution_count": 180,
   "id": "77ef6316",
   "metadata": {},
   "outputs": [
    {
     "data": {
      "text/plain": [
       "[['Bread', 'Milk', 'Eggs'],\n",
       " ['Bread', 'Juice', 'Cheese'],\n",
       " ['Milk', 'Eggs', 'Juice'],\n",
       " ['Bread', 'Milk'],\n",
       " ['Eggs', 'Juice'],\n",
       " ['Bread', 'Cheese'],\n",
       " ['Milk', 'Cheese'],\n",
       " ['Bread', 'Milk', 'Eggs', 'Juice'],\n",
       " ['Juice', 'Cheese'],\n",
       " ['Bread', 'Milk', 'Cheese']]"
      ]
     },
     "execution_count": 180,
     "metadata": {},
     "output_type": "execute_result"
    }
   ],
   "source": [
    "#create records\n",
    "records = []\n",
    "\n",
    "#add records\n",
    "for i in range(0, 10):\n",
    "    records.append([str(df.values[i, j]) for j in range(1, 2)])\n",
    "    \n",
    "#convert to list\n",
    "records = pd.DataFrame(records)\n",
    "records = records[0].str.split(',').tolist()\n",
    "\n",
    "#strip empty space in string\n",
    "for x in range(0,len(records)):\n",
    "    for y in range(0,len(records[x])):\n",
    "        records[x][y] = records[x][y].strip()\n",
    "\n",
    "#display\n",
    "records"
   ]
  },
  {
   "cell_type": "markdown",
   "id": "68da3ec4",
   "metadata": {},
   "source": [
    "### ii) Apriori Algorithm"
   ]
  },
  {
   "cell_type": "markdown",
   "id": "86b29e25",
   "metadata": {},
   "source": [
    "### Rule Generation:\n",
    "• <u>What does the confidence metric represent in the context of association rules?</u>\n",
    "\n",
    "In association rule mining, the confidence metric quantifies the reliability of a rule. It indicates the conditional probability that the presence of the antecedent (if-part) in a transaction implies the presence of the consequent (then-part). A higher confidence value, expressed as a percentage, signifies a stronger association between the items. For instance, a confidence of 80% implies that, in 80% of transactions where the antecedent is present, the consequent is also present, making the rule more dependable for decision-making in areas like marketing or recommendation systems.\n",
    "\n",
    "• <u>How does adjusting the min_threshold parameter affect the generated association rules?</u>\n",
    "\n",
    "Adjusting the min_threshold parameter in rule generation impacts the selection criteria for rules to be considered interesting. A higher min_threshold filters out rules with lower confidence, generating a more reliable set of rules but potentially reducing their quantity. Conversely, a lower min_threshold includes rules with lower confidence, resulting in a larger set of rules that may include weaker associations. The parameter thus serves as a control mechanism, allowing users to fine-tune the trade-off between rule quality and quantity based on the specific requirements of the analysis or application domain."
   ]
  },
  {
   "cell_type": "code",
   "execution_count": 183,
   "id": "68900ab8",
   "metadata": {},
   "outputs": [],
   "source": [
    "association_rules = apriori(records, min_support=0.2, min_confidence=0.7, min_lift=1)\n",
    "association_results = list(association_rules)"
   ]
  },
  {
   "cell_type": "code",
   "execution_count": 184,
   "id": "1bfff15d",
   "metadata": {},
   "outputs": [
    {
     "name": "stdout",
     "output_type": "stream",
     "text": [
      "There are 4 Relation derived.\n"
     ]
    }
   ],
   "source": [
    "print(\"There are {} Relation derived.\".format(len(association_results)))"
   ]
  },
  {
   "cell_type": "code",
   "execution_count": 185,
   "id": "80263e8f",
   "metadata": {},
   "outputs": [
    {
     "name": "stdout",
     "output_type": "stream",
     "text": [
      "frozenset({'Eggs', 'Juice'})\n",
      "frozenset({'Eggs', 'Milk'})\n",
      "frozenset({'Eggs', 'Bread', 'Milk'})\n",
      "frozenset({'Eggs', 'Juice', 'Milk'})\n"
     ]
    }
   ],
   "source": [
    "for i in range(0, len(association_results)):\n",
    "    print(association_results[i][0])"
   ]
  },
  {
   "cell_type": "markdown",
   "id": "88c3135c",
   "metadata": {},
   "source": [
    "## 3) Rules generated"
   ]
  },
  {
   "cell_type": "code",
   "execution_count": 189,
   "id": "f6f7f971",
   "metadata": {},
   "outputs": [
    {
     "name": "stdout",
     "output_type": "stream",
     "text": [
      "Rule: Eggs -> Juice\n",
      "Support: 0.3\n",
      "Confidence: 0.7499999999999999\n",
      "Lift: 1.4999999999999998\n",
      "=====================================\n",
      "Rule: Eggs -> Milk\n",
      "Support: 0.3\n",
      "Confidence: 0.7499999999999999\n",
      "Lift: 1.2499999999999998\n",
      "=====================================\n",
      "Rule: Eggs ,Bread -> Milk\n",
      "Support: 0.2\n",
      "Confidence: 1.0\n",
      "Lift: 1.6666666666666667\n",
      "=====================================\n",
      "Rule: Eggs ,Juice -> Milk\n",
      "Support: 0.2\n",
      "Confidence: 1.0\n",
      "Lift: 2.5\n",
      "=====================================\n"
     ]
    }
   ],
   "source": [
    "for item in association_results:\n",
    "    # first index of the inner list\n",
    "    # Contains base item and add item\n",
    "    pair = item[0]\n",
    "    items = [x for x in pair]\n",
    "    if len(items) == 2:\n",
    "        print(\"Rule: \" + items[0] + \" -> \" + items[1])\n",
    "    elif len(items) == 3:\n",
    "        print(\"Rule: \" + items[0] + \" ,\" + items[1] +\" -> \" + items[2])\n",
    "\n",
    "    # second index of the inner list\n",
    "    print(\"Support: \" + str(item[1]))\n",
    "\n",
    "    # third index of the list located at 0th\n",
    "    # of the third index of the inner list\n",
    "\n",
    "    print(\"Confidence: \" + str(item[2][0][2]))\n",
    "    print(\"Lift: \" + str(item[2][0][3]))\n",
    "    print(\"=====================================\")"
   ]
  },
  {
   "cell_type": "markdown",
   "id": "c51b60a1",
   "metadata": {},
   "source": [
    "### Experimentation:\n",
    "• <u>What happens if you change the value of min_support to a higher or lower\n",
    "value? How does it impact the number of frequent itemsets?</u>\n",
    "\n",
    "Adjusting min_support in association rule mining has a substantial impact on the number and nature of frequent itemsets. A higher value reduces the number of frequent itemsets, emphasizing only those occurring frequently across a substantial portion of the dataset. Conversely, a lower value increases the number of frequent itemsets, considering even smaller subsets. This parameter allows users to customize the granularity of discovered patterns, balancing generality and specificity in results.\n",
    "\n",
    "• <u>How does adjusting the confidence threshold influence the number and quality of\n",
    "association rules?</u>\n",
    "\n",
    "Modifying the confidence threshold in rule generation affects the number and quality of association rules. A higher threshold yields fewer but more reliable rules, emphasizing stronger correlations, while a lower threshold expands the rule set, including weaker associations. This adjustment provides flexibility in tailoring rule output based on the desired level of certainty or the specific goals of the analysis."
   ]
  },
  {
   "cell_type": "markdown",
   "id": "1cfc5e4c",
   "metadata": {},
   "source": [
    "### Real-world Application:\n",
    "• <u>Can you think of a real-world scenario where association rule mining can be\n",
    "applied to improve business operations or customer experience?</u>\n",
    "\n",
    "In the context of a supermarket, association rule mining can enhance business operations and customer experience. Analyzing transaction data, the algorithm may reveal associations like \"customers who buy diapers are likely to purchase baby wipes.\" This insight enables targeted product placements and promotions, improving inventory management and offering personalized discounts. The store can strategically optimize aisle layouts and marketing strategies, providing a more efficient and satisfying shopping experience for customers while boosting sales and operational efficiency.\n",
    "\n",
    "• <u>How might the insights gained from association rule mining be utilized by a\n",
    "retail business?</u>\n",
    "\n",
    "For a retail business, association rule mining unveils valuable purchasing patterns. By discovering associations like \"customers buying grills often purchase barbecue sauce,\" retailers can optimize product placements, create targeted promotions, and enhance cross-selling strategies. Insights gained help retailers understand customer behavior, tailor marketing campaigns, and optimize inventory management. This leads to a more personalized shopping experience, increased sales, and improved operational efficiency, demonstrating the practical application of association rule mining in enhancing decision-making and customer satisfaction in the retail sector."
   ]
  }
 ],
 "metadata": {
  "kernelspec": {
   "display_name": "Python 3 (ipykernel)",
   "language": "python",
   "name": "python3"
  },
  "language_info": {
   "codemirror_mode": {
    "name": "ipython",
    "version": 3
   },
   "file_extension": ".py",
   "mimetype": "text/x-python",
   "name": "python",
   "nbconvert_exporter": "python",
   "pygments_lexer": "ipython3",
   "version": "3.11.5"
  }
 },
 "nbformat": 4,
 "nbformat_minor": 5
}
