{
 "cells": [
  {
   "cell_type": "markdown",
   "id": "cb051e18",
   "metadata": {},
   "source": [
    "# <center>*HUFF MODEL APPLICATION IN STORE ANALYSIS*</center>"
   ]
  },
  {
   "cell_type": "markdown",
   "id": "cbcb99fd",
   "metadata": {},
   "source": [
    "## 1) Huff model introduction"
   ]
  },
  {
   "cell_type": "markdown",
   "id": "da706b8c",
   "metadata": {},
   "source": [
    "In spatial analysis, the Huff model is a widely used tool for predicting the probability of a consumer visiting a site, as a function of the distance of the site, its attractiveness, and the relative attractiveness of alternatives. It was formulated by David Huff in 1963. t is used in marketing, economics, retail research and urban planning, and is implemented in several commercially available GIS systems.\n",
    "\n",
    "<underline>The formula is given as:</underline>"
   ]
  },
  {
   "attachments": {
    "image.png": {
     "image/png": "[encoded data removed]"
    }
   },
   "cell_type": "markdown",
   "id": "f6376293",
   "metadata": {},
   "source": [
    "![image.png](attachment:image.png)"
   ]
  },
  {
   "cell_type": "markdown",
   "id": "406923c2",
   "metadata": {},
   "source": [
    "## 2) Import packages and data cleaning"
   ]
  },
  {
   "cell_type": "code",
   "execution_count": 81,
   "id": "e623e88e",
   "metadata": {},
   "outputs": [],
   "source": [
    "#import packages\n",
    "import numpy as np\n",
    "import pandas as pd"
   ]
  },
  {
   "cell_type": "code",
   "execution_count": 82,
   "id": "51772f45",
   "metadata": {},
   "outputs": [],
   "source": [
    "#import data\n",
    "xls = pd.ExcelFile('Python_trade.xlsx')"
   ]
  },
  {
   "cell_type": "code",
   "execution_count": 83,
   "id": "9509369e",
   "metadata": {},
   "outputs": [
    {
     "data": {
      "text/html": [
       "<div>\n",
       "<style scoped>\n",
       "    .dataframe tbody tr th:only-of-type {\n",
       "        vertical-align: middle;\n",
       "    }\n",
       "\n",
       "    .dataframe tbody tr th {\n",
       "        vertical-align: top;\n",
       "    }\n",
       "\n",
       "    .dataframe thead th {\n",
       "        text-align: right;\n",
       "    }\n",
       "</style>\n",
       "<table border=\"1\" class=\"dataframe\">\n",
       "  <thead>\n",
       "    <tr style=\"text-align: right;\">\n",
       "      <th></th>\n",
       "      <th>Rosmere</th>\n",
       "      <th>saint-rose</th>\n",
       "      <th>Laval de Rapides</th>\n",
       "      <th>Boisbraind</th>\n",
       "    </tr>\n",
       "    <tr>\n",
       "      <th>customer community</th>\n",
       "      <th></th>\n",
       "      <th></th>\n",
       "      <th></th>\n",
       "      <th></th>\n",
       "    </tr>\n",
       "  </thead>\n",
       "  <tbody>\n",
       "    <tr>\n",
       "      <th>Blainville</th>\n",
       "      <td>30</td>\n",
       "      <td>70</td>\n",
       "      <td>130</td>\n",
       "      <td>40</td>\n",
       "    </tr>\n",
       "    <tr>\n",
       "      <th>Boisbrand</th>\n",
       "      <td>20</td>\n",
       "      <td>20</td>\n",
       "      <td>110</td>\n",
       "      <td>1</td>\n",
       "    </tr>\n",
       "    <tr>\n",
       "      <th>Saint therese</th>\n",
       "      <td>20</td>\n",
       "      <td>40</td>\n",
       "      <td>130</td>\n",
       "      <td>20</td>\n",
       "    </tr>\n",
       "    <tr>\n",
       "      <th>Fabre villee</th>\n",
       "      <td>50</td>\n",
       "      <td>20</td>\n",
       "      <td>40</td>\n",
       "      <td>40</td>\n",
       "    </tr>\n",
       "    <tr>\n",
       "      <th>Laval de Rapides</th>\n",
       "      <td>80</td>\n",
       "      <td>70</td>\n",
       "      <td>1</td>\n",
       "      <td>80</td>\n",
       "    </tr>\n",
       "  </tbody>\n",
       "</table>\n",
       "</div>"
      ],
      "text/plain": [
       "                    Rosmere  saint-rose  Laval de Rapides  Boisbraind\n",
       "customer community                                                   \n",
       "Blainville               30          70               130          40\n",
       "Boisbrand                20          20               110           1\n",
       "Saint therese            20          40               130          20\n",
       "Fabre villee             50          20                40          40\n",
       "Laval de Rapides         80          70                 1          80"
      ]
     },
     "execution_count": 83,
     "metadata": {},
     "output_type": "execute_result"
    }
   ],
   "source": [
    "#first sheet\n",
    "distance = xls.parse(0, index_col=0)\n",
    "distance.head()"
   ]
  },
  {
   "cell_type": "code",
   "execution_count": 84,
   "id": "78950ef6",
   "metadata": {
    "scrolled": true
   },
   "outputs": [
    {
     "name": "stdout",
     "output_type": "stream",
     "text": [
      "<class 'pandas.core.frame.DataFrame'>\n",
      "Index: 9 entries, Blainville to Deux Montagnes\n",
      "Data columns (total 4 columns):\n",
      " #   Column            Non-Null Count  Dtype\n",
      "---  ------            --------------  -----\n",
      " 0   Rosmere           9 non-null      int64\n",
      " 1   saint-rose        9 non-null      int64\n",
      " 2   Laval de Rapides  9 non-null      int64\n",
      " 3   Boisbraind        9 non-null      int64\n",
      "dtypes: int64(4)\n",
      "memory usage: 360.0+ bytes\n"
     ]
    }
   ],
   "source": [
    "distance.info()"
   ]
  },
  {
   "cell_type": "code",
   "execution_count": 85,
   "id": "94757594",
   "metadata": {},
   "outputs": [
    {
     "data": {
      "text/html": [
       "<div>\n",
       "<style scoped>\n",
       "    .dataframe tbody tr th:only-of-type {\n",
       "        vertical-align: middle;\n",
       "    }\n",
       "\n",
       "    .dataframe tbody tr th {\n",
       "        vertical-align: top;\n",
       "    }\n",
       "\n",
       "    .dataframe thead th {\n",
       "        text-align: right;\n",
       "    }\n",
       "</style>\n",
       "<table border=\"1\" class=\"dataframe\">\n",
       "  <thead>\n",
       "    <tr style=\"text-align: right;\">\n",
       "      <th></th>\n",
       "      <th>Rosmere</th>\n",
       "      <th>saint-rose</th>\n",
       "      <th>Laval de Rapides</th>\n",
       "      <th>Boisbraind</th>\n",
       "    </tr>\n",
       "  </thead>\n",
       "  <tbody>\n",
       "    <tr>\n",
       "      <th>count</th>\n",
       "      <td>9.000000</td>\n",
       "      <td>9.000000</td>\n",
       "      <td>9.000000</td>\n",
       "      <td>9.000000</td>\n",
       "    </tr>\n",
       "    <tr>\n",
       "      <th>mean</th>\n",
       "      <td>66.666667</td>\n",
       "      <td>60.000000</td>\n",
       "      <td>75.666667</td>\n",
       "      <td>62.333333</td>\n",
       "    </tr>\n",
       "    <tr>\n",
       "      <th>std</th>\n",
       "      <td>47.958315</td>\n",
       "      <td>27.386128</td>\n",
       "      <td>50.586559</td>\n",
       "      <td>37.802116</td>\n",
       "    </tr>\n",
       "    <tr>\n",
       "      <th>min</th>\n",
       "      <td>20.000000</td>\n",
       "      <td>20.000000</td>\n",
       "      <td>1.000000</td>\n",
       "      <td>1.000000</td>\n",
       "    </tr>\n",
       "    <tr>\n",
       "      <th>25%</th>\n",
       "      <td>30.000000</td>\n",
       "      <td>40.000000</td>\n",
       "      <td>40.000000</td>\n",
       "      <td>40.000000</td>\n",
       "    </tr>\n",
       "    <tr>\n",
       "      <th>50%</th>\n",
       "      <td>50.000000</td>\n",
       "      <td>70.000000</td>\n",
       "      <td>90.000000</td>\n",
       "      <td>80.000000</td>\n",
       "    </tr>\n",
       "    <tr>\n",
       "      <th>75%</th>\n",
       "      <td>100.000000</td>\n",
       "      <td>70.000000</td>\n",
       "      <td>120.000000</td>\n",
       "      <td>100.000000</td>\n",
       "    </tr>\n",
       "    <tr>\n",
       "      <th>max</th>\n",
       "      <td>150.000000</td>\n",
       "      <td>100.000000</td>\n",
       "      <td>130.000000</td>\n",
       "      <td>100.000000</td>\n",
       "    </tr>\n",
       "  </tbody>\n",
       "</table>\n",
       "</div>"
      ],
      "text/plain": [
       "          Rosmere  saint-rose  Laval de Rapides  Boisbraind\n",
       "count    9.000000    9.000000          9.000000    9.000000\n",
       "mean    66.666667   60.000000         75.666667   62.333333\n",
       "std     47.958315   27.386128         50.586559   37.802116\n",
       "min     20.000000   20.000000          1.000000    1.000000\n",
       "25%     30.000000   40.000000         40.000000   40.000000\n",
       "50%     50.000000   70.000000         90.000000   80.000000\n",
       "75%    100.000000   70.000000        120.000000  100.000000\n",
       "max    150.000000  100.000000        130.000000  100.000000"
      ]
     },
     "execution_count": 85,
     "metadata": {},
     "output_type": "execute_result"
    }
   ],
   "source": [
    "distance.describe()"
   ]
  },
  {
   "cell_type": "code",
   "execution_count": 86,
   "id": "151714d5",
   "metadata": {},
   "outputs": [
    {
     "data": {
      "text/html": [
       "<div>\n",
       "<style scoped>\n",
       "    .dataframe tbody tr th:only-of-type {\n",
       "        vertical-align: middle;\n",
       "    }\n",
       "\n",
       "    .dataframe tbody tr th {\n",
       "        vertical-align: top;\n",
       "    }\n",
       "\n",
       "    .dataframe thead th {\n",
       "        text-align: right;\n",
       "    }\n",
       "</style>\n",
       "<table border=\"1\" class=\"dataframe\">\n",
       "  <thead>\n",
       "    <tr style=\"text-align: right;\">\n",
       "      <th></th>\n",
       "      <th>customer community</th>\n",
       "      <th>Expenditure grocery</th>\n",
       "    </tr>\n",
       "    <tr>\n",
       "      <th>Households</th>\n",
       "      <th></th>\n",
       "      <th></th>\n",
       "    </tr>\n",
       "  </thead>\n",
       "  <tbody>\n",
       "    <tr>\n",
       "      <th>4000</th>\n",
       "      <td>Blainville</td>\n",
       "      <td>800</td>\n",
       "    </tr>\n",
       "    <tr>\n",
       "      <th>8000</th>\n",
       "      <td>Boisbrand</td>\n",
       "      <td>1000</td>\n",
       "    </tr>\n",
       "    <tr>\n",
       "      <th>12000</th>\n",
       "      <td>Saint therese</td>\n",
       "      <td>1100</td>\n",
       "    </tr>\n",
       "    <tr>\n",
       "      <th>6000</th>\n",
       "      <td>Fabre villee</td>\n",
       "      <td>700</td>\n",
       "    </tr>\n",
       "    <tr>\n",
       "      <th>1000</th>\n",
       "      <td>Laval de Rapides</td>\n",
       "      <td>1200</td>\n",
       "    </tr>\n",
       "  </tbody>\n",
       "</table>\n",
       "</div>"
      ],
      "text/plain": [
       "           customer community  Expenditure grocery\n",
       "Households                                        \n",
       "4000               Blainville                  800\n",
       "8000                Boisbrand                 1000\n",
       "12000           Saint therese                 1100\n",
       "6000             Fabre villee                  700\n",
       "1000         Laval de Rapides                 1200"
      ]
     },
     "execution_count": 86,
     "metadata": {},
     "output_type": "execute_result"
    }
   ],
   "source": [
    "#second sheet\n",
    "census = xls.parse(1, index_col=1)\n",
    "census.head()"
   ]
  },
  {
   "cell_type": "code",
   "execution_count": 87,
   "id": "e3293990",
   "metadata": {},
   "outputs": [
    {
     "data": {
      "text/html": [
       "<div>\n",
       "<style scoped>\n",
       "    .dataframe tbody tr th:only-of-type {\n",
       "        vertical-align: middle;\n",
       "    }\n",
       "\n",
       "    .dataframe tbody tr th {\n",
       "        vertical-align: top;\n",
       "    }\n",
       "\n",
       "    .dataframe thead th {\n",
       "        text-align: right;\n",
       "    }\n",
       "</style>\n",
       "<table border=\"1\" class=\"dataframe\">\n",
       "  <thead>\n",
       "    <tr style=\"text-align: right;\">\n",
       "      <th></th>\n",
       "      <th>customer community</th>\n",
       "      <th>Expenditure grocery</th>\n",
       "      <th>Total</th>\n",
       "    </tr>\n",
       "    <tr>\n",
       "      <th>Households</th>\n",
       "      <th></th>\n",
       "      <th></th>\n",
       "      <th></th>\n",
       "    </tr>\n",
       "  </thead>\n",
       "  <tbody>\n",
       "    <tr>\n",
       "      <th>4000</th>\n",
       "      <td>Blainville</td>\n",
       "      <td>800</td>\n",
       "      <td>3200000</td>\n",
       "    </tr>\n",
       "    <tr>\n",
       "      <th>8000</th>\n",
       "      <td>Boisbrand</td>\n",
       "      <td>1000</td>\n",
       "      <td>8000000</td>\n",
       "    </tr>\n",
       "    <tr>\n",
       "      <th>12000</th>\n",
       "      <td>Saint therese</td>\n",
       "      <td>1100</td>\n",
       "      <td>13200000</td>\n",
       "    </tr>\n",
       "    <tr>\n",
       "      <th>6000</th>\n",
       "      <td>Fabre villee</td>\n",
       "      <td>700</td>\n",
       "      <td>4200000</td>\n",
       "    </tr>\n",
       "    <tr>\n",
       "      <th>1000</th>\n",
       "      <td>Laval de Rapides</td>\n",
       "      <td>1200</td>\n",
       "      <td>1200000</td>\n",
       "    </tr>\n",
       "  </tbody>\n",
       "</table>\n",
       "</div>"
      ],
      "text/plain": [
       "           customer community  Expenditure grocery     Total\n",
       "Households                                                  \n",
       "4000               Blainville                  800   3200000\n",
       "8000                Boisbrand                 1000   8000000\n",
       "12000           Saint therese                 1100  13200000\n",
       "6000             Fabre villee                  700   4200000\n",
       "1000         Laval de Rapides                 1200   1200000"
      ]
     },
     "execution_count": 87,
     "metadata": {},
     "output_type": "execute_result"
    }
   ],
   "source": [
    "census['Total'] = census.index * census['Expenditure grocery']\n",
    "census.head()"
   ]
  },
  {
   "cell_type": "code",
   "execution_count": 88,
   "id": "37903785",
   "metadata": {},
   "outputs": [
    {
     "name": "stdout",
     "output_type": "stream",
     "text": [
      "<class 'pandas.core.frame.DataFrame'>\n",
      "Int64Index: 9 entries, 4000 to 4000\n",
      "Data columns (total 3 columns):\n",
      " #   Column               Non-Null Count  Dtype \n",
      "---  ------               --------------  ----- \n",
      " 0   customer community   9 non-null      object\n",
      " 1   Expenditure grocery  9 non-null      int64 \n",
      " 2   Total                9 non-null      int64 \n",
      "dtypes: int64(2), object(1)\n",
      "memory usage: 288.0+ bytes\n"
     ]
    }
   ],
   "source": [
    "census.info()"
   ]
  },
  {
   "cell_type": "code",
   "execution_count": 89,
   "id": "d53b4af1",
   "metadata": {},
   "outputs": [
    {
     "data": {
      "text/html": [
       "<div>\n",
       "<style scoped>\n",
       "    .dataframe tbody tr th:only-of-type {\n",
       "        vertical-align: middle;\n",
       "    }\n",
       "\n",
       "    .dataframe tbody tr th {\n",
       "        vertical-align: top;\n",
       "    }\n",
       "\n",
       "    .dataframe thead th {\n",
       "        text-align: right;\n",
       "    }\n",
       "</style>\n",
       "<table border=\"1\" class=\"dataframe\">\n",
       "  <thead>\n",
       "    <tr style=\"text-align: right;\">\n",
       "      <th></th>\n",
       "      <th>Expenditure grocery</th>\n",
       "      <th>Total</th>\n",
       "    </tr>\n",
       "  </thead>\n",
       "  <tbody>\n",
       "    <tr>\n",
       "      <th>count</th>\n",
       "      <td>9.000000</td>\n",
       "      <td>9.000000e+00</td>\n",
       "    </tr>\n",
       "    <tr>\n",
       "      <th>mean</th>\n",
       "      <td>922.222222</td>\n",
       "      <td>5.522222e+06</td>\n",
       "    </tr>\n",
       "    <tr>\n",
       "      <th>std</th>\n",
       "      <td>281.858909</td>\n",
       "      <td>3.475909e+06</td>\n",
       "    </tr>\n",
       "    <tr>\n",
       "      <th>min</th>\n",
       "      <td>500.000000</td>\n",
       "      <td>1.200000e+06</td>\n",
       "    </tr>\n",
       "    <tr>\n",
       "      <th>25%</th>\n",
       "      <td>700.000000</td>\n",
       "      <td>3.500000e+06</td>\n",
       "    </tr>\n",
       "    <tr>\n",
       "      <th>50%</th>\n",
       "      <td>900.000000</td>\n",
       "      <td>4.500000e+06</td>\n",
       "    </tr>\n",
       "    <tr>\n",
       "      <th>75%</th>\n",
       "      <td>1100.000000</td>\n",
       "      <td>6.300000e+06</td>\n",
       "    </tr>\n",
       "    <tr>\n",
       "      <th>max</th>\n",
       "      <td>1400.000000</td>\n",
       "      <td>1.320000e+07</td>\n",
       "    </tr>\n",
       "  </tbody>\n",
       "</table>\n",
       "</div>"
      ],
      "text/plain": [
       "       Expenditure grocery         Total\n",
       "count             9.000000  9.000000e+00\n",
       "mean            922.222222  5.522222e+06\n",
       "std             281.858909  3.475909e+06\n",
       "min             500.000000  1.200000e+06\n",
       "25%             700.000000  3.500000e+06\n",
       "50%             900.000000  4.500000e+06\n",
       "75%            1100.000000  6.300000e+06\n",
       "max            1400.000000  1.320000e+07"
      ]
     },
     "execution_count": 89,
     "metadata": {},
     "output_type": "execute_result"
    }
   ],
   "source": [
    "census.describe()"
   ]
  },
  {
   "cell_type": "code",
   "execution_count": 90,
   "id": "e8843791",
   "metadata": {},
   "outputs": [
    {
     "data": {
      "text/html": [
       "<div>\n",
       "<style scoped>\n",
       "    .dataframe tbody tr th:only-of-type {\n",
       "        vertical-align: middle;\n",
       "    }\n",
       "\n",
       "    .dataframe tbody tr th {\n",
       "        vertical-align: top;\n",
       "    }\n",
       "\n",
       "    .dataframe thead th {\n",
       "        text-align: right;\n",
       "    }\n",
       "</style>\n",
       "<table border=\"1\" class=\"dataframe\">\n",
       "  <thead>\n",
       "    <tr style=\"text-align: right;\">\n",
       "      <th></th>\n",
       "      <th>Size</th>\n",
       "      <th>Parking spaces</th>\n",
       "      <th>Highways</th>\n",
       "      <th>Traffic</th>\n",
       "      <th>Accessibility</th>\n",
       "      <th>Design</th>\n",
       "    </tr>\n",
       "    <tr>\n",
       "      <th>customer community</th>\n",
       "      <th></th>\n",
       "      <th></th>\n",
       "      <th></th>\n",
       "      <th></th>\n",
       "      <th></th>\n",
       "      <th></th>\n",
       "    </tr>\n",
       "  </thead>\n",
       "  <tbody>\n",
       "    <tr>\n",
       "      <th>Rosmere</th>\n",
       "      <td>1000</td>\n",
       "      <td>200</td>\n",
       "      <td>4</td>\n",
       "      <td>4</td>\n",
       "      <td>10</td>\n",
       "      <td>7</td>\n",
       "    </tr>\n",
       "    <tr>\n",
       "      <th>saint-rose</th>\n",
       "      <td>1100</td>\n",
       "      <td>150</td>\n",
       "      <td>2</td>\n",
       "      <td>8</td>\n",
       "      <td>7</td>\n",
       "      <td>7</td>\n",
       "    </tr>\n",
       "    <tr>\n",
       "      <th>Laval de Rapides</th>\n",
       "      <td>800</td>\n",
       "      <td>120</td>\n",
       "      <td>3</td>\n",
       "      <td>2</td>\n",
       "      <td>8</td>\n",
       "      <td>6</td>\n",
       "    </tr>\n",
       "    <tr>\n",
       "      <th>Boisbraind</th>\n",
       "      <td>1300</td>\n",
       "      <td>220</td>\n",
       "      <td>5</td>\n",
       "      <td>6</td>\n",
       "      <td>5</td>\n",
       "      <td>10</td>\n",
       "    </tr>\n",
       "  </tbody>\n",
       "</table>\n",
       "</div>"
      ],
      "text/plain": [
       "                    Size  Parking spaces  Highways  Traffic  Accessibility  \\\n",
       "customer community                                                           \n",
       "Rosmere             1000             200         4        4             10   \n",
       "saint-rose          1100             150         2        8              7   \n",
       "Laval de Rapides     800             120         3        2              8   \n",
       "Boisbraind          1300             220         5        6              5   \n",
       "\n",
       "                    Design  \n",
       "customer community          \n",
       "Rosmere                  7  \n",
       "saint-rose               7  \n",
       "Laval de Rapides         6  \n",
       "Boisbraind              10  "
      ]
     },
     "execution_count": 90,
     "metadata": {},
     "output_type": "execute_result"
    }
   ],
   "source": [
    "attractiveness = xls.parse(2, index_col=0)\n",
    "attractiveness.head()"
   ]
  },
  {
   "cell_type": "code",
   "execution_count": 91,
   "id": "50931e9e",
   "metadata": {},
   "outputs": [
    {
     "data": {
      "text/html": [
       "<div>\n",
       "<style scoped>\n",
       "    .dataframe tbody tr th:only-of-type {\n",
       "        vertical-align: middle;\n",
       "    }\n",
       "\n",
       "    .dataframe tbody tr th {\n",
       "        vertical-align: top;\n",
       "    }\n",
       "\n",
       "    .dataframe thead th {\n",
       "        text-align: right;\n",
       "    }\n",
       "</style>\n",
       "<table border=\"1\" class=\"dataframe\">\n",
       "  <thead>\n",
       "    <tr style=\"text-align: right;\">\n",
       "      <th></th>\n",
       "      <th>Size</th>\n",
       "      <th>Parking spaces</th>\n",
       "      <th>Highways</th>\n",
       "      <th>Traffic</th>\n",
       "      <th>Accessibility</th>\n",
       "      <th>Design</th>\n",
       "    </tr>\n",
       "  </thead>\n",
       "  <tbody>\n",
       "    <tr>\n",
       "      <th>count</th>\n",
       "      <td>4.0000</td>\n",
       "      <td>4.000000</td>\n",
       "      <td>4.000000</td>\n",
       "      <td>4.000000</td>\n",
       "      <td>4.000000</td>\n",
       "      <td>4.000000</td>\n",
       "    </tr>\n",
       "    <tr>\n",
       "      <th>mean</th>\n",
       "      <td>1050.0000</td>\n",
       "      <td>172.500000</td>\n",
       "      <td>3.500000</td>\n",
       "      <td>5.000000</td>\n",
       "      <td>7.500000</td>\n",
       "      <td>7.500000</td>\n",
       "    </tr>\n",
       "    <tr>\n",
       "      <th>std</th>\n",
       "      <td>208.1666</td>\n",
       "      <td>45.734742</td>\n",
       "      <td>1.290994</td>\n",
       "      <td>2.581989</td>\n",
       "      <td>2.081666</td>\n",
       "      <td>1.732051</td>\n",
       "    </tr>\n",
       "    <tr>\n",
       "      <th>min</th>\n",
       "      <td>800.0000</td>\n",
       "      <td>120.000000</td>\n",
       "      <td>2.000000</td>\n",
       "      <td>2.000000</td>\n",
       "      <td>5.000000</td>\n",
       "      <td>6.000000</td>\n",
       "    </tr>\n",
       "    <tr>\n",
       "      <th>25%</th>\n",
       "      <td>950.0000</td>\n",
       "      <td>142.500000</td>\n",
       "      <td>2.750000</td>\n",
       "      <td>3.500000</td>\n",
       "      <td>6.500000</td>\n",
       "      <td>6.750000</td>\n",
       "    </tr>\n",
       "    <tr>\n",
       "      <th>50%</th>\n",
       "      <td>1050.0000</td>\n",
       "      <td>175.000000</td>\n",
       "      <td>3.500000</td>\n",
       "      <td>5.000000</td>\n",
       "      <td>7.500000</td>\n",
       "      <td>7.000000</td>\n",
       "    </tr>\n",
       "    <tr>\n",
       "      <th>75%</th>\n",
       "      <td>1150.0000</td>\n",
       "      <td>205.000000</td>\n",
       "      <td>4.250000</td>\n",
       "      <td>6.500000</td>\n",
       "      <td>8.500000</td>\n",
       "      <td>7.750000</td>\n",
       "    </tr>\n",
       "    <tr>\n",
       "      <th>max</th>\n",
       "      <td>1300.0000</td>\n",
       "      <td>220.000000</td>\n",
       "      <td>5.000000</td>\n",
       "      <td>8.000000</td>\n",
       "      <td>10.000000</td>\n",
       "      <td>10.000000</td>\n",
       "    </tr>\n",
       "  </tbody>\n",
       "</table>\n",
       "</div>"
      ],
      "text/plain": [
       "            Size  Parking spaces  Highways   Traffic  Accessibility     Design\n",
       "count     4.0000        4.000000  4.000000  4.000000       4.000000   4.000000\n",
       "mean   1050.0000      172.500000  3.500000  5.000000       7.500000   7.500000\n",
       "std     208.1666       45.734742  1.290994  2.581989       2.081666   1.732051\n",
       "min     800.0000      120.000000  2.000000  2.000000       5.000000   6.000000\n",
       "25%     950.0000      142.500000  2.750000  3.500000       6.500000   6.750000\n",
       "50%    1050.0000      175.000000  3.500000  5.000000       7.500000   7.000000\n",
       "75%    1150.0000      205.000000  4.250000  6.500000       8.500000   7.750000\n",
       "max    1300.0000      220.000000  5.000000  8.000000      10.000000  10.000000"
      ]
     },
     "execution_count": 91,
     "metadata": {},
     "output_type": "execute_result"
    }
   ],
   "source": [
    "attractiveness.describe()"
   ]
  },
  {
   "cell_type": "markdown",
   "id": "449e981d",
   "metadata": {},
   "source": [
    "## 3) Data cleaning"
   ]
  },
  {
   "cell_type": "code",
   "execution_count": 99,
   "id": "481250be",
   "metadata": {},
   "outputs": [
    {
     "data": {
      "text/html": [
       "<div>\n",
       "<style scoped>\n",
       "    .dataframe tbody tr th:only-of-type {\n",
       "        vertical-align: middle;\n",
       "    }\n",
       "\n",
       "    .dataframe tbody tr th {\n",
       "        vertical-align: top;\n",
       "    }\n",
       "\n",
       "    .dataframe thead th {\n",
       "        text-align: right;\n",
       "    }\n",
       "</style>\n",
       "<table border=\"1\" class=\"dataframe\">\n",
       "  <thead>\n",
       "    <tr style=\"text-align: right;\">\n",
       "      <th></th>\n",
       "      <th>Households</th>\n",
       "      <th>Expenditure grocery</th>\n",
       "      <th>Total</th>\n",
       "    </tr>\n",
       "    <tr>\n",
       "      <th>customer community</th>\n",
       "      <th></th>\n",
       "      <th></th>\n",
       "      <th></th>\n",
       "    </tr>\n",
       "  </thead>\n",
       "  <tbody>\n",
       "    <tr>\n",
       "      <th>Blainville</th>\n",
       "      <td>4000</td>\n",
       "      <td>800</td>\n",
       "      <td>3200000</td>\n",
       "    </tr>\n",
       "    <tr>\n",
       "      <th>Boisbrand</th>\n",
       "      <td>8000</td>\n",
       "      <td>1000</td>\n",
       "      <td>8000000</td>\n",
       "    </tr>\n",
       "    <tr>\n",
       "      <th>Saint therese</th>\n",
       "      <td>12000</td>\n",
       "      <td>1100</td>\n",
       "      <td>13200000</td>\n",
       "    </tr>\n",
       "    <tr>\n",
       "      <th>Fabre villee</th>\n",
       "      <td>6000</td>\n",
       "      <td>700</td>\n",
       "      <td>4200000</td>\n",
       "    </tr>\n",
       "    <tr>\n",
       "      <th>Laval de Rapides</th>\n",
       "      <td>1000</td>\n",
       "      <td>1200</td>\n",
       "      <td>1200000</td>\n",
       "    </tr>\n",
       "  </tbody>\n",
       "</table>\n",
       "</div>"
      ],
      "text/plain": [
       "                    Households  Expenditure grocery     Total\n",
       "customer community                                           \n",
       "Blainville                4000                  800   3200000\n",
       "Boisbrand                 8000                 1000   8000000\n",
       "Saint therese            12000                 1100  13200000\n",
       "Fabre villee              6000                  700   4200000\n",
       "Laval de Rapides          1000                 1200   1200000"
      ]
     },
     "execution_count": 99,
     "metadata": {},
     "output_type": "execute_result"
    }
   ],
   "source": [
    "census.reset_index(inplace=True)\n",
    "census.set_index('customer community', inplace=True)\n",
    "census.head()"
   ]
  },
  {
   "cell_type": "code",
   "execution_count": 57,
   "id": "7189cb9d",
   "metadata": {},
   "outputs": [],
   "source": [
    "stores = np.unique(attractiveness.index)\n",
    "commu = np.unique(distance.index)"
   ]
  },
  {
   "cell_type": "code",
   "execution_count": 58,
   "id": "6b3b9751",
   "metadata": {},
   "outputs": [],
   "source": [
    "keys = [(x,y) for x in commu for y in stores]"
   ]
  },
  {
   "cell_type": "code",
   "execution_count": 59,
   "id": "1796dd7f",
   "metadata": {},
   "outputs": [],
   "source": [
    "scaled = (attractiveness - attractiveness.min())/(attractiveness.max() - attractiveness.min())"
   ]
  },
  {
   "cell_type": "code",
   "execution_count": 60,
   "id": "9003f5b3",
   "metadata": {},
   "outputs": [
    {
     "data": {
      "text/plain": [
       "Index(['Size', 'Parking spaces', 'Highways', 'Traffic', 'Accessibility',\n",
       "       'Design'],\n",
       "      dtype='object')"
      ]
     },
     "execution_count": 60,
     "metadata": {},
     "output_type": "execute_result"
    }
   ],
   "source": [
    "scaled.columns"
   ]
  },
  {
   "cell_type": "code",
   "execution_count": 61,
   "id": "5d61c27c",
   "metadata": {},
   "outputs": [],
   "source": [
    "scaled['attractiveness'] = (scaled['Size'] + scaled['Parking spaces'] + scaled['Highways']\n",
    "                           + scaled['Traffic'] + scaled['Accessibility'] + scaled['Design'])"
   ]
  },
  {
   "cell_type": "code",
   "execution_count": 62,
   "id": "ac05cce9",
   "metadata": {},
   "outputs": [
    {
     "data": {
      "text/plain": [
       "{('Blainville', 'Boisbraind'): 0.11666666666666665,\n",
       " ('Blainville', 'Laval de Rapides'): 0.0071794871794871795,\n",
       " ('Blainville', 'Rosmere'): 0.115,\n",
       " ('Blainville', 'saint-rose'): 0.03642857142857143,\n",
       " ('Boisbrand', 'Boisbraind'): 4.666666666666666,\n",
       " ('Boisbrand', 'Laval de Rapides'): 0.008484848484848486,\n",
       " ('Boisbrand', 'Rosmere'): 0.17250000000000001,\n",
       " ('Boisbrand', 'saint-rose'): 0.1275,\n",
       " ('Carterville', 'Boisbraind'): 0.04666666666666666,\n",
       " ('Carterville', 'Laval de Rapides'): 0.04666666666666667,\n",
       " ('Carterville', 'Rosmere'): 0.02875,\n",
       " ('Carterville', 'saint-rose'): 0.031875,\n",
       " ('Deux Montagnes', 'Boisbraind'): 0.04666666666666666,\n",
       " ('Deux Montagnes', 'Laval de Rapides'): 0.01037037037037037,\n",
       " ('Deux Montagnes', 'Rosmere'): 0.023,\n",
       " ('Deux Montagnes', 'saint-rose'): 0.0255,\n",
       " ('Fabre villee', 'Boisbraind'): 0.11666666666666665,\n",
       " ('Fabre villee', 'Laval de Rapides'): 0.023333333333333334,\n",
       " ('Fabre villee', 'Rosmere'): 0.069,\n",
       " ('Fabre villee', 'saint-rose'): 0.1275,\n",
       " ('Laval de Rapides', 'Boisbraind'): 0.05833333333333333,\n",
       " ('Laval de Rapides', 'Laval de Rapides'): 0.9333333333333333,\n",
       " ('Laval de Rapides', 'Rosmere'): 0.043125000000000004,\n",
       " ('Laval de Rapides', 'saint-rose'): 0.03642857142857143,\n",
       " ('Saint therese', 'Boisbraind'): 0.2333333333333333,\n",
       " ('Saint therese', 'Laval de Rapides'): 0.0071794871794871795,\n",
       " ('Saint therese', 'Rosmere'): 0.17250000000000001,\n",
       " ('Saint therese', 'saint-rose'): 0.06375,\n",
       " ('Sainte Dorothee', 'Boisbraind'): 0.04666666666666666,\n",
       " ('Sainte Dorothee', 'Laval de Rapides'): 0.023333333333333334,\n",
       " ('Sainte Dorothee', 'Rosmere'): 0.0345,\n",
       " ('Sainte Dorothee', 'saint-rose'): 0.03642857142857143,\n",
       " ('bois des filion', 'Boisbraind'): 0.05833333333333333,\n",
       " ('bois des filion', 'Laval de Rapides'): 0.0077777777777777776,\n",
       " ('bois des filion', 'Rosmere'): 0.115,\n",
       " ('bois des filion', 'saint-rose'): 0.03642857142857143}"
      ]
     },
     "execution_count": 62,
     "metadata": {},
     "output_type": "execute_result"
    }
   ],
   "source": [
    "neum = {}\n",
    "\n",
    "for key in keys:\n",
    "    neum[key] = scaled.loc[key[1], 'attractiveness']/distance.loc[key[0],key[1]]\n",
    "\n",
    "neum"
   ]
  },
  {
   "cell_type": "code",
   "execution_count": 65,
   "id": "b464f51a",
   "metadata": {
    "scrolled": false
   },
   "outputs": [
    {
     "data": {
      "text/plain": [
       "{('Blainville', 'Boisbraind'): 0.42381902860944776,\n",
       " ('Blainville', 'Laval de Rapides'): 0.026081170991350634,\n",
       " ('Blainville', 'Rosmere'): 0.4177644710578843,\n",
       " ('Blainville', 'saint-rose'): 0.1323353293413174,\n",
       " ('Boisbrand', 'Boisbraind'): 0.9379948836642708,\n",
       " ('Boisbrand', 'Laval de Rapides'): 0.0017054452430259471,\n",
       " ('Boisbrand', 'Rosmere'): 0.0346723108783043,\n",
       " ('Boisbrand', 'saint-rose'): 0.02562736021439883,\n",
       " ('Carterville', 'Boisbraind'): 0.30311231393775373,\n",
       " ('Carterville', 'Laval de Rapides'): 0.3031123139377538,\n",
       " ('Carterville', 'Rosmere'): 0.1867388362652233,\n",
       " ('Carterville', 'saint-rose'): 0.20703653585926932,\n",
       " ('Deux Montagnes', 'Boisbraind'): 0.442182839094578,\n",
       " ('Deux Montagnes', 'Laval de Rapides'): 0.09826285313212844,\n",
       " ('Deux Montagnes', 'Rosmere'): 0.21793297069661346,\n",
       " ('Deux Montagnes', 'saint-rose'): 0.24162133707668013,\n",
       " ('Fabre villee', 'Boisbraind'): 0.34670629024269434,\n",
       " ('Fabre villee', 'Laval de Rapides'): 0.06934125804853888,\n",
       " ('Fabre villee', 'Rosmere'): 0.2050520059435364,\n",
       " ('Fabre villee', 'saint-rose'): 0.3789004457652303,\n",
       " ('Laval de Rapides', 'Boisbraind'): 0.05445503292306836,\n",
       " ('Laval de Rapides', 'Laval de Rapides'): 0.8712805267690938,\n",
       " ('Laval de Rapides', 'Rosmere'): 0.04025782791098269,\n",
       " ('Laval de Rapides', 'saint-rose'): 0.034006612396854936,\n",
       " ('Saint therese', 'Boisbraind'): 0.4894117647058823,\n",
       " ('Saint therese', 'Laval de Rapides'): 0.015058823529411765,\n",
       " ('Saint therese', 'Rosmere'): 0.3618151260504202,\n",
       " ('Saint therese', 'saint-rose'): 0.13371428571428573,\n",
       " ('Sainte Dorothee', 'Boisbraind'): 0.3311370163879033,\n",
       " ('Sainte Dorothee', 'Laval de Rapides'): 0.1655685081939517,\n",
       " ('Sainte Dorothee', 'Rosmere'): 0.24480486568677143,\n",
       " ('Sainte Dorothee', 'saint-rose'): 0.2584896097313735,\n",
       " ('bois des filion', 'Boisbraind'): 0.26815031010580076,\n",
       " ('bois des filion', 'Laval de Rapides'): 0.03575337468077344,\n",
       " ('bois des filion', 'Rosmere'): 0.5286391827800073,\n",
       " ('bois des filion', 'saint-rose'): 0.16745713243341848}"
      ]
     },
     "execution_count": 65,
     "metadata": {},
     "output_type": "execute_result"
    }
   ],
   "source": [
    "## numerator\n",
    "Pijs = {}\n",
    "\n",
    "for key in keys:\n",
    "    Pijs[key] = neum[key]/sum([v for k,v in neum.items() if k[0] == key[0]])\n",
    "    \n",
    "Pijs"
   ]
  },
  {
   "cell_type": "code",
   "execution_count": 103,
   "id": "94f9e6bf",
   "metadata": {},
   "outputs": [
    {
     "data": {
      "text/plain": [
       "{('Blainville', 'Boisbraind'): 1356220.891550233,\n",
       " ('Blainville', 'Laval de Rapides'): 83459.74717232204,\n",
       " ('Blainville', 'Rosmere'): 1336846.3073852297,\n",
       " ('Blainville', 'saint-rose'): 423473.05389221566,\n",
       " ('Boisbrand', 'Boisbraind'): 7503959.069314166,\n",
       " ('Boisbrand', 'Laval de Rapides'): 13643.561944207577,\n",
       " ('Boisbrand', 'Rosmere'): 277378.4870264344,\n",
       " ('Boisbrand', 'saint-rose'): 205018.88171519066,\n",
       " ('Carterville', 'Boisbraind'): 1909607.5778078486,\n",
       " ('Carterville', 'Laval de Rapides'): 1909607.5778078488,\n",
       " ('Carterville', 'Rosmere'): 1176454.6684709068,\n",
       " ('Carterville', 'saint-rose'): 1304330.1759133968,\n",
       " ('Deux Montagnes', 'Boisbraind'): 2476223.898929637,\n",
       " ('Deux Montagnes', 'Laval de Rapides'): 550271.9775399193,\n",
       " ('Deux Montagnes', 'Rosmere'): 1220424.6359010355,\n",
       " ('Deux Montagnes', 'saint-rose'): 1353079.4876294087,\n",
       " ('Fabre villee', 'Boisbraind'): 1456166.4190193163,\n",
       " ('Fabre villee', 'Laval de Rapides'): 291233.28380386333,\n",
       " ('Fabre villee', 'Rosmere'): 861218.4249628528,\n",
       " ('Fabre villee', 'saint-rose'): 1591381.8722139671,\n",
       " ('Laval de Rapides', 'Boisbraind'): 65346.03950768203,\n",
       " ('Laval de Rapides', 'Laval de Rapides'): 1045536.6321229126,\n",
       " ('Laval de Rapides', 'Rosmere'): 48309.393493179225,\n",
       " ('Laval de Rapides', 'saint-rose'): 40807.934876225925,\n",
       " ('Saint therese', 'Boisbraind'): 6460235.294117646,\n",
       " ('Saint therese', 'Laval de Rapides'): 198776.4705882353,\n",
       " ('Saint therese', 'Rosmere'): 4775959.663865547,\n",
       " ('Saint therese', 'saint-rose'): 1765028.5714285716,\n",
       " ('Sainte Dorothee', 'Boisbraind'): 1158979.5573576617,\n",
       " ('Sainte Dorothee', 'Laval de Rapides'): 579489.778678831,\n",
       " ('Sainte Dorothee', 'Rosmere'): 856817.0299037,\n",
       " ('Sainte Dorothee', 'saint-rose'): 904713.6340598073,\n",
       " ('bois des filion', 'Boisbraind'): 1206676.3954761035,\n",
       " ('bois des filion', 'Laval de Rapides'): 160890.18606348048,\n",
       " ('bois des filion', 'Rosmere'): 2378876.322510033,\n",
       " ('bois des filion', 'saint-rose'): 753557.0959503831}"
      ]
     },
     "execution_count": 103,
     "metadata": {},
     "output_type": "execute_result"
    }
   ],
   "source": [
    "## expected per key\n",
    "exp_key = {}\n",
    "census\n",
    "for key in keys:\n",
    "    exp_key[key] = Pijs[key] * census.loc[key[0], 'Total']\n",
    "    \n",
    "exp_key"
   ]
  },
  {
   "cell_type": "code",
   "execution_count": 111,
   "id": "942fdd63",
   "metadata": {},
   "outputs": [
    {
     "data": {
      "text/plain": [
       "{'Boisbraind': 23593415.143080294,\n",
       " 'Laval de Rapides': 4832909.21572162,\n",
       " 'Rosmere': 12932284.93351892,\n",
       " 'saint-rose': 8341390.707679166}"
      ]
     },
     "execution_count": 111,
     "metadata": {},
     "output_type": "execute_result"
    }
   ],
   "source": [
    "exp_store = {}\n",
    "\n",
    "for store in stores:\n",
    "    exp_store[store] = sum([v for k,v in exp_key.items() if k[1] == store])\n",
    "    \n",
    "exp_store"
   ]
  }
 ],
 "metadata": {
  "kernelspec": {
   "display_name": "Python 3 (ipykernel)",
   "language": "python",
   "name": "python3"
  },
  "language_info": {
   "codemirror_mode": {
    "name": "ipython",
    "version": 3
   },
   "file_extension": ".py",
   "mimetype": "text/x-python",
   "name": "python",
   "nbconvert_exporter": "python",
   "pygments_lexer": "ipython3",
   "version": "3.9.13"
  }
 },
 "nbformat": 4,
 "nbformat_minor": 5
}
